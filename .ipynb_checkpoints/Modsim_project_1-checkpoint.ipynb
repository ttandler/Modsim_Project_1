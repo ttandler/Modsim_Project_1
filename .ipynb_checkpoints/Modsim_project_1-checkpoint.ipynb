{
 "cells": [
  {
   "cell_type": "code",
   "execution_count": 1,
   "metadata": {},
   "outputs": [],
   "source": [
    "# Configure Jupyter so figures appear in the notebook\n",
    "%matplotlib inline\n",
    "\n",
    "# Configure Jupyter to display the assigned value after an assignment\n",
    "%config InteractiveShell.ast_node_interactivity='last_expr_or_assign'\n",
    "\n",
    "# import functions from the modsim.py module\n",
    "from modsim import *\n",
    "\n",
    "#from pandas import read_html\n",
    "\n",
    "import pandas as pd"
   ]
  },
  {
   "cell_type": "code",
   "execution_count": 2,
   "metadata": {},
   "outputs": [
    {
     "data": {
      "text/plain": [
       "year\n",
       "1900     76.094000\n",
       "1901     77.584000\n",
       "1902     79.163000\n",
       "1903     80.632000\n",
       "1904     82.166000\n",
       "1905     83.822000\n",
       "1906     85.450000\n",
       "1907     87.008000\n",
       "1908     88.710000\n",
       "1909     90.490000\n",
       "1910     92.407000\n",
       "1911     93.863000\n",
       "1912     95.335000\n",
       "1913     97.225000\n",
       "1914     99.111000\n",
       "1915    100.546000\n",
       "1916    101.961000\n",
       "1917    103.268000\n",
       "1918    103.208000\n",
       "1919    104.514000\n",
       "1920    106.461000\n",
       "1921    108.538000\n",
       "1922    110.049000\n",
       "1923    111.947000\n",
       "1924    114.109000\n",
       "1925    115.829000\n",
       "1926    117.397000\n",
       "1927    119.035000\n",
       "1928    120.509000\n",
       "1929    121.767000\n",
       "           ...    \n",
       "1987    242.288918\n",
       "1988    244.498982\n",
       "1989    246.819230\n",
       "1990    249.622814\n",
       "1991    252.980941\n",
       "1992    256.514224\n",
       "1993    259.918588\n",
       "1994    263.125821\n",
       "1995    266.278393\n",
       "1996    269.394284\n",
       "1997    272.646925\n",
       "1998    275.854104\n",
       "1999    279.040168\n",
       "2000    282.162411\n",
       "2001    284.968955\n",
       "2002    287.625193\n",
       "2003    290.107933\n",
       "2004    292.805298\n",
       "2005    295.516599\n",
       "2006    298.379912\n",
       "2007    301.231207\n",
       "2008    304.093966\n",
       "2009    306.771529\n",
       "2010    309.330219\n",
       "2011    311.591917\n",
       "2012    314.102623\n",
       "2013    316.427395\n",
       "2014    318.907401\n",
       "2015    321.418820\n",
       "2016    323.889854\n",
       "Name: population, Length: 117, dtype: float64"
      ]
     },
     "execution_count": 2,
     "metadata": {},
     "output_type": "execute_result"
    }
   ],
   "source": [
    "data = pd.read_csv(\"US_population.csv\",index_col ='year')\n",
    "pop = data.population /1e6\n",
    "pop_df = pop"
   ]
  },
  {
   "cell_type": "code",
   "execution_count": 3,
   "metadata": {},
   "outputs": [
    {
     "data": {
      "text/plain": [
       "76.094"
      ]
     },
     "execution_count": 3,
     "metadata": {},
     "output_type": "execute_result"
    }
   ],
   "source": [
    "pop [1900]"
   ]
  },
  {
   "cell_type": "code",
   "execution_count": 4,
   "metadata": {},
   "outputs": [
    {
     "name": "stdout",
     "output_type": "stream",
     "text": [
      "Saving figure to file proj01-fig01.png\n"
     ]
    },
    {
     "data": {
      "image/png": "[encoded data removed]",
      "text/plain": [
       "<Figure size 432x288 with 1 Axes>"
      ]
     },
     "metadata": {
      "needs_background": "light"
     },
     "output_type": "display_data"
    }
   ],
   "source": [
    "plot (pop,':', label ='US Population')\n",
    "decorate(xlabel='Year',\n",
    "        ylabel='US Population (million)')\n",
    "savefig('proj01-fig01.png')"
   ]
  },
  {
   "cell_type": "code",
   "execution_count": 5,
   "metadata": {},
   "outputs": [
    {
     "data": {
      "text/plain": [
       "28"
      ]
     },
     "execution_count": 5,
     "metadata": {},
     "output_type": "execute_result"
    }
   ],
   "source": [
    "t_0 = 1900\n",
    "t_gd_start = 1928\n",
    "t_gd_end = 1941\n",
    "t_norm_start = t_gd_end + 1\n",
    "t_norm_end = 2018\n",
    "elapsed_time_bgd = t_gd_start - t_0"
   ]
  },
  {
   "cell_type": "code",
   "execution_count": 6,
   "metadata": {},
   "outputs": [
    {
     "data": {
      "text/plain": [
       "76.094"
      ]
     },
     "execution_count": 6,
     "metadata": {},
     "output_type": "execute_result"
    }
   ],
   "source": [
    "p_0 =  pop[t_0]"
   ]
  },
  {
   "cell_type": "code",
   "execution_count": 7,
   "metadata": {},
   "outputs": [
    {
     "data": {
      "text/plain": [
       "120.509"
      ]
     },
     "execution_count": 7,
     "metadata": {},
     "output_type": "execute_result"
    }
   ],
   "source": [
    "p_gd_start = pop[t_gd_start]"
   ]
  },
  {
   "cell_type": "code",
   "execution_count": 8,
   "metadata": {},
   "outputs": [
    {
     "data": {
      "text/plain": [
       "44.415000000000006"
      ]
     },
     "execution_count": 8,
     "metadata": {},
     "output_type": "execute_result"
    }
   ],
   "source": [
    "deltap_bgd = p_gd_start - p_0"
   ]
  },
  {
   "cell_type": "code",
   "execution_count": 9,
   "metadata": {},
   "outputs": [
    {
     "data": {
      "text/plain": [
       "1.5862500000000002"
      ]
     },
     "execution_count": 9,
     "metadata": {},
     "output_type": "execute_result"
    }
   ],
   "source": [
    "growth_rate_bgd = deltap_bgd/elapsed_time_bgd"
   ]
  },
  {
   "cell_type": "code",
   "execution_count": 10,
   "metadata": {},
   "outputs": [
    {
     "data": {
      "text/plain": [
       "year\n",
       "1900     76.094\n",
       "1901     77.584\n",
       "1902     79.163\n",
       "1903     80.632\n",
       "1904     82.166\n",
       "1905     83.822\n",
       "1906     85.450\n",
       "1907     87.008\n",
       "1908     88.710\n",
       "1909     90.490\n",
       "1910     92.407\n",
       "1911     93.863\n",
       "1912     95.335\n",
       "1913     97.225\n",
       "1914     99.111\n",
       "1915    100.546\n",
       "1916    101.961\n",
       "1917    103.268\n",
       "1918    103.208\n",
       "1919    104.514\n",
       "1920    106.461\n",
       "1921    108.538\n",
       "1922    110.049\n",
       "1923    111.947\n",
       "1924    114.109\n",
       "1925    115.829\n",
       "1926    117.397\n",
       "1927    119.035\n",
       "Name: population, dtype: float64"
      ]
     },
     "execution_count": 10,
     "metadata": {},
     "output_type": "execute_result"
    }
   ],
   "source": [
    "pop_df = pop [(pop.index >= t_0) & (pop.index <= t_gd_start -1)]"
   ]
  },
  {
   "cell_type": "code",
   "execution_count": 11,
   "metadata": {},
   "outputs": [
    {
     "name": "stdout",
     "output_type": "stream",
     "text": [
      "year\n",
      "1900     76.094\n",
      "1901     77.584\n",
      "1902     79.163\n",
      "1903     80.632\n",
      "1904     82.166\n",
      "1905     83.822\n",
      "1906     85.450\n",
      "1907     87.008\n",
      "1908     88.710\n",
      "1909     90.490\n",
      "1910     92.407\n",
      "1911     93.863\n",
      "1912     95.335\n",
      "1913     97.225\n",
      "1914     99.111\n",
      "1915    100.546\n",
      "1916    101.961\n",
      "1917    103.268\n",
      "1918    103.208\n",
      "1919    104.514\n",
      "1920    106.461\n",
      "1921    108.538\n",
      "1922    110.049\n",
      "1923    111.947\n",
      "1924    114.109\n",
      "1925    115.829\n",
      "1926    117.397\n",
      "1927    119.035\n",
      "Name: population, dtype: float64\n"
     ]
    }
   ],
   "source": [
    "print (pop_df)"
   ]
  },
  {
   "cell_type": "code",
   "execution_count": 12,
   "metadata": {},
   "outputs": [
    {
     "data": {
      "text/html": [
       "<div>\n",
       "<style scoped>\n",
       "    .dataframe tbody tr th:only-of-type {\n",
       "        vertical-align: middle;\n",
       "    }\n",
       "\n",
       "    .dataframe tbody tr th {\n",
       "        vertical-align: top;\n",
       "    }\n",
       "\n",
       "    .dataframe thead th {\n",
       "        text-align: right;\n",
       "    }\n",
       "</style>\n",
       "<table border=\"1\" class=\"dataframe\">\n",
       "  <thead>\n",
       "    <tr style=\"text-align: right;\">\n",
       "      <th></th>\n",
       "      <th>values</th>\n",
       "    </tr>\n",
       "  </thead>\n",
       "  <tbody>\n",
       "    <tr>\n",
       "      <th>t_0</th>\n",
       "      <td>1900.00000</td>\n",
       "    </tr>\n",
       "    <tr>\n",
       "      <th>t_gd_start</th>\n",
       "      <td>1928.00000</td>\n",
       "    </tr>\n",
       "    <tr>\n",
       "      <th>t_gd_end</th>\n",
       "      <td>1941.00000</td>\n",
       "    </tr>\n",
       "    <tr>\n",
       "      <th>t_norm_start</th>\n",
       "      <td>1942.00000</td>\n",
       "    </tr>\n",
       "    <tr>\n",
       "      <th>t_norm_end</th>\n",
       "      <td>2018.00000</td>\n",
       "    </tr>\n",
       "    <tr>\n",
       "      <th>p_0</th>\n",
       "      <td>76.09400</td>\n",
       "    </tr>\n",
       "    <tr>\n",
       "      <th>p_gd_start</th>\n",
       "      <td>120.50900</td>\n",
       "    </tr>\n",
       "    <tr>\n",
       "      <th>growth_rate_bgd</th>\n",
       "      <td>1.58625</td>\n",
       "    </tr>\n",
       "    <tr>\n",
       "      <th>alpha</th>\n",
       "      <td>0.02300</td>\n",
       "    </tr>\n",
       "    <tr>\n",
       "      <th>beta</th>\n",
       "      <td>0.00135</td>\n",
       "    </tr>\n",
       "  </tbody>\n",
       "</table>\n",
       "</div>"
      ],
      "text/plain": [
       "t_0                1900.00000\n",
       "t_gd_start         1928.00000\n",
       "t_gd_end           1941.00000\n",
       "t_norm_start       1942.00000\n",
       "t_norm_end         2018.00000\n",
       "p_0                  76.09400\n",
       "p_gd_start          120.50900\n",
       "growth_rate_bgd       1.58625\n",
       "alpha                 0.02300\n",
       "beta                  0.00135\n",
       "dtype: float64"
      ]
     },
     "execution_count": 12,
     "metadata": {},
     "output_type": "execute_result"
    }
   ],
   "source": [
    "system = System(t_0 = t_0,\n",
    "                t_gd_start = t_gd_start,\n",
    "                t_gd_end = t_gd_end,\n",
    "                t_norm_start = t_norm_start,\n",
    "                t_norm_end = t_norm_end,\n",
    "                p_0 = p_0,\n",
    "                p_gd_start = p_gd_start,\n",
    "                growth_rate_bgd = growth_rate_bgd,\n",
    "               alpha = 0.023,\n",
    "               beta = 0.00135)"
   ]
  },
  {
   "cell_type": "code",
   "execution_count": 13,
   "metadata": {},
   "outputs": [],
   "source": [
    "def run_simulation (system, update_func):\n",
    "    results = TimeSeries()\n",
    "    results[system.t_gd_start] = system.p_gd_start\n",
    "    \n",
    "    for t in linrange(system.t_gd_start, system.t_gd_end):\n",
    "        results[t+1] = update_func(results[t], t, system)\n",
    "        \n",
    "    return results"
   ]
  },
  {
   "cell_type": "code",
   "execution_count": 15,
   "metadata": {},
   "outputs": [
    {
     "data": {
      "text/html": [
       "<div>\n",
       "<style scoped>\n",
       "    .dataframe tbody tr th:only-of-type {\n",
       "        vertical-align: middle;\n",
       "    }\n",
       "\n",
       "    .dataframe tbody tr th {\n",
       "        vertical-align: top;\n",
       "    }\n",
       "\n",
       "    .dataframe thead th {\n",
       "        text-align: right;\n",
       "    }\n",
       "</style>\n",
       "<table border=\"1\" class=\"dataframe\">\n",
       "  <thead>\n",
       "    <tr style=\"text-align: right;\">\n",
       "      <th></th>\n",
       "      <th>values</th>\n",
       "    </tr>\n",
       "  </thead>\n",
       "  <tbody>\n",
       "    <tr>\n",
       "      <th>1928</th>\n",
       "      <td>120.50900</td>\n",
       "    </tr>\n",
       "    <tr>\n",
       "      <th>1929</th>\n",
       "      <td>122.09525</td>\n",
       "    </tr>\n",
       "    <tr>\n",
       "      <th>1930</th>\n",
       "      <td>123.68150</td>\n",
       "    </tr>\n",
       "    <tr>\n",
       "      <th>1931</th>\n",
       "      <td>125.26775</td>\n",
       "    </tr>\n",
       "    <tr>\n",
       "      <th>1932</th>\n",
       "      <td>126.85400</td>\n",
       "    </tr>\n",
       "    <tr>\n",
       "      <th>1933</th>\n",
       "      <td>128.44025</td>\n",
       "    </tr>\n",
       "    <tr>\n",
       "      <th>1934</th>\n",
       "      <td>130.02650</td>\n",
       "    </tr>\n",
       "    <tr>\n",
       "      <th>1935</th>\n",
       "      <td>131.61275</td>\n",
       "    </tr>\n",
       "    <tr>\n",
       "      <th>1936</th>\n",
       "      <td>133.19900</td>\n",
       "    </tr>\n",
       "    <tr>\n",
       "      <th>1937</th>\n",
       "      <td>134.78525</td>\n",
       "    </tr>\n",
       "    <tr>\n",
       "      <th>1938</th>\n",
       "      <td>136.37150</td>\n",
       "    </tr>\n",
       "    <tr>\n",
       "      <th>1939</th>\n",
       "      <td>137.95775</td>\n",
       "    </tr>\n",
       "    <tr>\n",
       "      <th>1940</th>\n",
       "      <td>139.54400</td>\n",
       "    </tr>\n",
       "    <tr>\n",
       "      <th>1941</th>\n",
       "      <td>141.13025</td>\n",
       "    </tr>\n",
       "  </tbody>\n",
       "</table>\n",
       "</div>"
      ],
      "text/plain": [
       "1928    120.50900\n",
       "1929    122.09525\n",
       "1930    123.68150\n",
       "1931    125.26775\n",
       "1932    126.85400\n",
       "1933    128.44025\n",
       "1934    130.02650\n",
       "1935    131.61275\n",
       "1936    133.19900\n",
       "1937    134.78525\n",
       "1938    136.37150\n",
       "1939    137.95775\n",
       "1940    139.54400\n",
       "1941    141.13025\n",
       "dtype: float64"
      ]
     },
     "execution_count": 15,
     "metadata": {},
     "output_type": "execute_result"
    }
   ],
   "source": [
    "def update_func_quad (pop,t,system):\n",
    "    return pop + growth_rate_bgd\n",
    "\n",
    "results = run_simulation (system, update_func_quad)"
   ]
  },
  {
   "cell_type": "code",
   "execution_count": 16,
   "metadata": {},
   "outputs": [
    {
     "name": "stdout",
     "output_type": "stream",
     "text": [
      "Saving figure to file proj01-fig02.png\n"
     ]
    },
    {
     "data": {
      "image/png": "[encoded data removed]",
      "text/plain": [
       "<Figure size 432x288 with 1 Axes>"
      ]
     },
     "metadata": {
      "needs_background": "light"
     },
     "output_type": "display_data"
    }
   ],
   "source": [
    "plot (pop_df + results, ':',label = \"US pop\")\n",
    "decorate(xlabel='Year',\n",
    "        ylabel='US Population (million)')\n",
    "savefig('proj01-fig02.png')"
   ]
  },
  {
   "cell_type": "code",
   "execution_count": 17,
   "metadata": {},
   "outputs": [
    {
     "name": "stdout",
     "output_type": "stream",
     "text": [
      "1928    120.50900\n",
      "1929    122.09525\n",
      "1930    123.68150\n",
      "1931    125.26775\n",
      "1932    126.85400\n",
      "1933    128.44025\n",
      "1934    130.02650\n",
      "1935    131.61275\n",
      "1936    133.19900\n",
      "1937    134.78525\n",
      "1938    136.37150\n",
      "1939    137.95775\n",
      "1940    139.54400\n",
      "1941    141.13025\n",
      "dtype: float64\n"
     ]
    }
   ],
   "source": [
    "print (results)"
   ]
  },
  {
   "cell_type": "code",
   "execution_count": 18,
   "metadata": {},
   "outputs": [
    {
     "ename": "AttributeError",
     "evalue": "'TimeSeries' object has no attribute 'df'",
     "output_type": "error",
     "traceback": [
      "\u001b[1;31m---------------------------------------------------------------------------\u001b[0m",
      "\u001b[1;31mAttributeError\u001b[0m                            Traceback (most recent call last)",
      "\u001b[1;32m<ipython-input-18-8df7a30bff9f>\u001b[0m in \u001b[0;36m<module>\u001b[1;34m()\u001b[0m\n\u001b[1;32m----> 1\u001b[1;33m \u001b[0mresults_df\u001b[0m \u001b[1;33m=\u001b[0m \u001b[0mresults\u001b[0m\u001b[1;33m.\u001b[0m\u001b[0mdf\u001b[0m \u001b[1;33m(\u001b[0m\u001b[1;33m)\u001b[0m\u001b[1;33m\u001b[0m\u001b[0m\n\u001b[0m",
      "\u001b[1;32mC:\\Miniconda3\\lib\\site-packages\\pandas\\core\\generic.py\u001b[0m in \u001b[0;36m__getattr__\u001b[1;34m(self, name)\u001b[0m\n\u001b[0;32m   4374\u001b[0m             \u001b[1;32mif\u001b[0m \u001b[0mself\u001b[0m\u001b[1;33m.\u001b[0m\u001b[0m_info_axis\u001b[0m\u001b[1;33m.\u001b[0m\u001b[0m_can_hold_identifiers_and_holds_name\u001b[0m\u001b[1;33m(\u001b[0m\u001b[0mname\u001b[0m\u001b[1;33m)\u001b[0m\u001b[1;33m:\u001b[0m\u001b[1;33m\u001b[0m\u001b[0m\n\u001b[0;32m   4375\u001b[0m                 \u001b[1;32mreturn\u001b[0m \u001b[0mself\u001b[0m\u001b[1;33m[\u001b[0m\u001b[0mname\u001b[0m\u001b[1;33m]\u001b[0m\u001b[1;33m\u001b[0m\u001b[0m\n\u001b[1;32m-> 4376\u001b[1;33m             \u001b[1;32mreturn\u001b[0m \u001b[0mobject\u001b[0m\u001b[1;33m.\u001b[0m\u001b[0m__getattribute__\u001b[0m\u001b[1;33m(\u001b[0m\u001b[0mself\u001b[0m\u001b[1;33m,\u001b[0m \u001b[0mname\u001b[0m\u001b[1;33m)\u001b[0m\u001b[1;33m\u001b[0m\u001b[0m\n\u001b[0m\u001b[0;32m   4377\u001b[0m \u001b[1;33m\u001b[0m\u001b[0m\n\u001b[0;32m   4378\u001b[0m     \u001b[1;32mdef\u001b[0m \u001b[0m__setattr__\u001b[0m\u001b[1;33m(\u001b[0m\u001b[0mself\u001b[0m\u001b[1;33m,\u001b[0m \u001b[0mname\u001b[0m\u001b[1;33m,\u001b[0m \u001b[0mvalue\u001b[0m\u001b[1;33m)\u001b[0m\u001b[1;33m:\u001b[0m\u001b[1;33m\u001b[0m\u001b[0m\n",
      "\u001b[1;31mAttributeError\u001b[0m: 'TimeSeries' object has no attribute 'df'"
     ]
    }
   ],
   "source": [
    "results_df = results.df ()"
   ]
  },
  {
   "cell_type": "code",
   "execution_count": null,
   "metadata": {},
   "outputs": [],
   "source": [
    "pop_df"
   ]
  },
  {
   "cell_type": "code",
   "execution_count": null,
   "metadata": {},
   "outputs": [],
   "source": []
  }
 ],
 "metadata": {
  "kernelspec": {
   "display_name": "Python 3",
   "language": "python",
   "name": "python3"
  },
  "language_info": {
   "codemirror_mode": {
    "name": "ipython",
    "version": 3
   },
   "file_extension": ".py",
   "mimetype": "text/x-python",
   "name": "python",
   "nbconvert_exporter": "python",
   "pygments_lexer": "ipython3",
   "version": "3.6.6"
  }
 },
 "nbformat": 4,
 "nbformat_minor": 2
}
